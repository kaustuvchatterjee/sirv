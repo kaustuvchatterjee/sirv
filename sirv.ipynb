{
 "cells": [
  {
   "cell_type": "code",
   "execution_count": 88,
   "metadata": {},
   "outputs": [],
   "source": [
    "# Import Library\n",
    "import numpy as np\n",
    "import scipy.integrate as spi\n",
    "import scipy.interpolate as spn\n",
    "import plotly.graph_objects as go\n",
    "from ipywidgets import widgets\n",
    "from IPython.display import display, HTML"
   ]
  },
  {
   "cell_type": "code",
   "execution_count": 128,
   "metadata": {},
   "outputs": [],
   "source": [
    "def run_sirv(N, I0, R0, days, infectious_period, r0, vacp,vacf):\n",
    "    gamma = 1/infectious_period\n",
    "    beta = gamma*r0\n",
    "\n",
    "#     I0 = 1\n",
    "#     R0 = 0\n",
    "    S0 = N-I0-R0\n",
    "\n",
    "    t = np.linspace(1,days, days)\n",
    "    # Initial coditions vector\n",
    "    y0 = S0,I0,R0 \n",
    "    \n",
    "    # p\n",
    "    pStart = vacp[0]\n",
    "    pEnd = vacp[1]\n",
    "    pFrac = vacf\n",
    "    \n",
    "    p = np.zeros(days)\n",
    "    a = pFrac/(pEnd-pStart)\n",
    "    x = np.linspace(0,(pEnd-pStart),(pEnd-pStart)-1)\n",
    "    p[0:pStart-1] = 0\n",
    "    p[pStart:pEnd-1] = a*x\n",
    "    p[pEnd-1:] = pFrac\n",
    "\n",
    "    interp = spn.interp1d(t,p)\n",
    "\n",
    "    # Model Deinition\n",
    "    def sirv(t,y,N,beta, gamma):\n",
    "        S,I,R = y\n",
    "        p = interp(t)\n",
    "        dSdt = -beta*(1-p)*S*I/N\n",
    "        dIdt = beta*(1-p)*S*I/N - gamma*I\n",
    "        dRdt = gamma*I\n",
    "        return dSdt, dIdt, dRdt\n",
    "\n",
    "    \n",
    "    sol = spi.solve_ivp(sirv,(1,days),y0, args=(N,beta,gamma),t_eval=t, method='RK45')\n",
    "    \n",
    "    I = sol.y[1]\n",
    "    \n",
    "    fig = go.Figure()\n",
    "    fig.add_trace(go.Scatter(x=t,y=I, mode=\"lines\", name=\"Active Cases\", line={'dash': 'solid', 'color': 'red'}))\n",
    "    #X-Axis\n",
    "    fig.update_xaxes(title_text='Days')\n",
    "    \n",
    "    #Y-axis\n",
    "    fig.update_yaxes(title_text='Count')\n",
    "    \n",
    "    # Layout\n",
    "    fig.update_layout(title={\"text\": \"SIR Model with Vaccination\",\"x\": 0.5,\"y\": .95,\"xanchor\": \"center\",\"yanchor\": \"bottom\"}, #Title\n",
    "                      width=740, height=420, #Figure size\n",
    "                      margin=dict(r=20, b=10, l=10, t=30),\n",
    "                      template = 'plotly_white', #Template {seaborn, plotly_white, dark}\n",
    "                      showlegend = True\n",
    "                      )     \n",
    "    \n",
    "    # Annotations\n",
    "    max_infected = max(I)\n",
    "    max_pos = np.argmax(I)\n",
    "    day_max_infected = t[max_pos]\n",
    "    txt = \"Max Active Cases: {a:.0f} on Day: {b:.0f}\"\n",
    "    max_text = txt.format(a=max_infected, b=day_max_infected)\n",
    "    fig.add_annotation(text=max_text,\n",
    "                       x=day_max_infected ,y=max_infected,\n",
    "                       xref='x', yref='y',\n",
    "#                       ax=0, ay=0,\n",
    "                       showarrow=True)\n",
    "    \n",
    "    fig.add_vrect(\n",
    "    x0=pStart, x1=pEnd,\n",
    "    fillcolor=\"Green\", opacity=0.25,\n",
    "    layer=\"above\", line_width=1)\n",
    "        \n",
    "#    fig.add_vrect(\n",
    "#    x0=pStart, x1=pEnd,\n",
    "#    fillcolor=\"LightSalmon\", opacity=0.5,\n",
    "#    layer=\"below\", line_width=0,\n",
    "#),\n",
    "    \n",
    "    fig.show()"
   ]
  },
  {
   "cell_type": "code",
   "execution_count": 129,
   "metadata": {},
   "outputs": [
    {
     "data": {
      "application/vnd.jupyter.widget-view+json": {
       "model_id": "c58978fca7ec4e409fbc639d94a4832e",
       "version_major": 2,
       "version_minor": 0
      },
      "text/plain": [
       "interactive(children=(IntSlider(value=1387000000, description='Population:', max=1387000000, step=1000000, sty…"
      ]
     },
     "metadata": {},
     "output_type": "display_data"
    },
    {
     "data": {
      "text/plain": [
       "<function __main__.run_sirv(N, I0, R0, days, infectious_period, r0, vacp, vacf)>"
      ]
     },
     "execution_count": 129,
     "metadata": {},
     "output_type": "execute_result"
    }
   ],
   "source": [
    "style = {'description_width': 'initial'}\n",
    "days = widgets.IntSlider(value=300, min=1, max=10100, step=100, description='Simulation Days:', style=style)\n",
    "max_d = days.value\n",
    "N = widgets.IntSlider(value=1.387e9, min=0, max=1.387e9, step=1e6, description='Population:', style=style)\n",
    "I0 = widgets.IntSlider(value=1, min=1, max=1e7, step=1000, description='Active Cases:', style=style)\n",
    "R0 = widgets.IntSlider(value=0, min=0, max=1e9, step=1000, description='Recovered:', style=style)\n",
    "\n",
    "infectious_period = widgets.FloatSlider(value=10, min=1, max=20, step=0.1, description='Infectious Period:', style=style)\n",
    "r0 = widgets.FloatSlider(value=2.5, min=0, max=10, step=0.1, description='R0:', style=style)\n",
    "\n",
    "vacp = widgets.IntRangeSlider(value=[30, 90], min=0, max=max_d, step=1, description='Vaccination Period:', style=style)\n",
    "vacf = widgets.FloatSlider(value=0.3, min=0, max=1, step=0.1, description='Vaccination Fraction:', style=style)\n",
    "\n",
    "# left_box = widgets.VBox([days, N, I0, R0])\n",
    "# right_box = widgets.VBox([infectious_period, r0, vacp, vacf])\n",
    "# wid = widgets.HBox([left_box,widgets.Label(value='',layout=widgets.Layout(min_width='60px')), right_box], layout=widgets.Layout(width=\"80%\"))\n",
    "\n",
    "f=widgets.interact(run_sirv, N=N, I0=I0, R0=R0, days=days, infectious_period=infectious_period, r0=r0, vacp=vacp,vacf=vacf)\n"
   ]
  }
 ],
 "metadata": {
  "kernelspec": {
   "display_name": "Python 3",
   "language": "python",
   "name": "python3"
  },
  "language_info": {
   "codemirror_mode": {
    "name": "ipython",
    "version": 3
   },
   "file_extension": ".py",
   "mimetype": "text/x-python",
   "name": "python",
   "nbconvert_exporter": "python",
   "pygments_lexer": "ipython3",
   "version": "3.9.4"
  }
 },
 "nbformat": 4,
 "nbformat_minor": 4
}
