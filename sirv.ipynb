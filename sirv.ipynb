{
 "cells": [
  {
   "cell_type": "code",
   "execution_count": 2,
   "metadata": {},
   "outputs": [],
   "source": [
    "# Import Library\n",
    "import numpy as np\n",
    "import scipy.integrate as spi\n",
    "import scipy.interpolate as spn\n",
    "import plotly.graph_objects as go\n",
    "from ipywidgets import widgets\n",
    "from IPython.display import display, HTML\n",
    "import voila"
   ]
  },
  {
   "cell_type": "code",
   "execution_count": 13,
   "metadata": {},
   "outputs": [],
   "source": [
    "def run_sirv(days, N, I0, R0, infectious_period, r0, vacp,vacf):\n",
    "    gamma = 1/infectious_period\n",
    "    beta = gamma*r0\n",
    "\n",
    "#     I0 = 1\n",
    "#     R0 = 0\n",
    "    S0 = N-I0-R0\n",
    "\n",
    "    t = np.linspace(1,days, days)\n",
    "    # Initial coditions vector\n",
    "    y0 = S0,I0,R0 \n",
    "    \n",
    "    # p\n",
    "    pStart = vacp[0]\n",
    "    pEnd = vacp[1]\n",
    "    pFrac = vacf\n",
    "    \n",
    "    p = np.zeros(days)\n",
    "    a = pFrac/(pEnd-pStart)\n",
    "    x = np.linspace(0,(pEnd-pStart),(pEnd-pStart)-1)\n",
    "    p[0:pStart-1] = 0\n",
    "    p[pStart:pEnd-1] = a*x\n",
    "    p[pEnd-1:] = pFrac\n",
    "\n",
    "    interp = spn.interp1d(t,p)\n",
    "\n",
    "    # Model Deinition\n",
    "    def sirv(t,y,N,beta, gamma):\n",
    "        S,I,R = y\n",
    "        p = interp(t)\n",
    "        dSdt = -beta*(1-p)*S*I/N\n",
    "        dIdt = beta*(1-p)*S*I/N - gamma*I\n",
    "        dRdt = gamma*I\n",
    "        return dSdt, dIdt, dRdt\n",
    "\n",
    "    \n",
    "    sol = spi.solve_ivp(sirv,(1,days),y0, args=(N,beta,gamma),t_eval=t, method='RK45')\n",
    "    \n",
    "    I = sol.y[1]\n",
    "    \n",
    "    fig = go.Figure()\n",
    "    fig.add_trace(go.Scatter(x=t,y=I, mode=\"lines\", name=\"Active Cases\", line={'dash': 'solid', 'color': 'red'}))\n",
    "    #X-Axis\n",
    "    fig.update_xaxes(title_text='Days')\n",
    "    \n",
    "    #Y-axis\n",
    "    fig.update_yaxes(title_text='Count')\n",
    "    \n",
    "    # Layout\n",
    "    fig.update_layout(title={\"text\": \"SIR Model with Vaccination\",\"x\": 0.5,\"y\": .95,\"xanchor\": \"center\",\"yanchor\": \"bottom\"}, #Title\n",
    "                      width=740, height=420, #Figure size\n",
    "                      margin=dict(r=20, b=10, l=10, t=30),\n",
    "                      template = 'plotly_white', #Template {seaborn, plotly_white, dark}\n",
    "                      showlegend = True,\n",
    "                       annotations=[\n",
    "                        dict(\n",
    "                            x=0.97,\n",
    "                            y=0.03,\n",
    "                            xref=\"paper\",\n",
    "                            yref=\"paper\",\n",
    "                            text=\"Kaustuv\",\n",
    "                            ax=0,\n",
    "                            ay=0\n",
    "                            )\n",
    "                        ]\n",
    "                      )     \n",
    "    \n",
    "    # Annotations\n",
    "    max_infected = max(I)\n",
    "    max_pos = np.argmax(I)\n",
    "    day_max_infected = t[max_pos]\n",
    "    txt = \"Max Active Cases: {a:.0f} on Day: {b:.0f}\"\n",
    "    max_text = txt.format(a=max_infected, b=day_max_infected)\n",
    "    fig.add_annotation(text=max_text,\n",
    "                       x=day_max_infected ,y=max_infected,\n",
    "                       xref='x', yref='y',\n",
    "#                       ax=0, ay=0,\n",
    "                       showarrow=True)\n",
    "    \n",
    "    fig.add_vrect(\n",
    "    x0=pStart, x1=pEnd,\n",
    "    fillcolor=\"Green\", opacity=0.25,\n",
    "    layer=\"above\", line_width=1)\n",
    "        \n",
    "\n",
    "    \n",
    "    fig.show()\n"
   ]
  },
  {
   "cell_type": "code",
   "execution_count": 15,
   "metadata": {},
   "outputs": [
    {
     "data": {
      "application/vnd.jupyter.widget-view+json": {
       "model_id": "2c67c94323ca4c6f8675353ee7284f4c",
       "version_major": 2,
       "version_minor": 0
      },
      "text/plain": [
       "interactive(children=(IntSlider(value=300, description='Simulation Days:', layout=Layout(min_width='600px'), m…"
      ]
     },
     "metadata": {},
     "output_type": "display_data"
    }
   ],
   "source": [
    "style = {'description_width': 'initial'}\n",
    "days = widgets.IntSlider(value=300, min=100, max=10000, step=100, description='Simulation Days:', style=style, layout=widgets.Layout(min_width='600px'))\n",
    "max_d = days.value\n",
    "N = widgets.IntSlider(value=1.387e9, min=0, max=1.387e9, step=1e6, description='Population:', style=style, layout=widgets.Layout(min_width='600px'))\n",
    "I0 = widgets.IntSlider(value=1, min=1, max=1e9, step=1000, description='Active Cases:', style=style, layout=widgets.Layout(min_width='600px'))\n",
    "R0 = widgets.IntSlider(value=0, min=0, max=1e9, step=1000, description='Recovered:', style=style, layout=widgets.Layout(min_width='600px'))\n",
    "\n",
    "infectious_period = widgets.FloatSlider(value=10, min=1, max=20, step=0.1, description='Infectious Period:', style=style, layout=widgets.Layout(min_width='600px'))\n",
    "r0 = widgets.FloatSlider(value=2.5, min=0, max=10, step=0.1, description='R0:', style=style, layout=widgets.Layout(min_width='600px'))\n",
    "\n",
    "vacp = widgets.IntRangeSlider(value=[30, 90], min=0, max=max_d, step=1, description='Vaccination Period:', style=style, layout=widgets.Layout(min_width='600px'))\n",
    "vacf = widgets.FloatSlider(value=0.3, min=0, max=1, step=0.1, description='Vaccination Fraction:', style=style, layout=widgets.Layout(min_width='600px'))\n",
    "\n",
    "f = widgets.interact(run_sirv, days=days, N=N, I0=I0, R0=R0, infectious_period=infectious_period, r0=r0, vacp=vacp,vacf=vacf)\n"
   ]
  },
  {
   "cell_type": "code",
   "execution_count": null,
   "metadata": {},
   "outputs": [],
   "source": []
  }
 ],
 "metadata": {
  "kernelspec": {
   "display_name": "Python 3",
   "language": "python",
   "name": "python3"
  },
  "language_info": {
   "codemirror_mode": {
    "name": "ipython",
    "version": 3
   },
   "file_extension": ".py",
   "mimetype": "text/x-python",
   "name": "python",
   "nbconvert_exporter": "python",
   "pygments_lexer": "ipython3",
   "version": "3.9.4"
  }
 },
 "nbformat": 4,
 "nbformat_minor": 4
}
